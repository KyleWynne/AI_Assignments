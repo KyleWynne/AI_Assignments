{
 "cells": [
  {
   "cell_type": "markdown",
   "id": "75c3c22a",
   "metadata": {},
   "source": [
    "# Find the maximum of a function, f(x, y) = sin(sqrt(x^2 + y^2)), with x and y boundaries of -4 <= x < 4 and -4 <= y < 4"
   ]
  },
  {
   "cell_type": "markdown",
   "id": "9ddab6d4",
   "metadata": {},
   "source": [
    "**Fitness function**"
   ]
  },
  {
   "cell_type": "code",
   "execution_count": 1,
   "id": "3029eafd",
   "metadata": {},
   "outputs": [],
   "source": [
    "import math\n",
    "def objective_function(individual):\n",
    "    x = individual[\"x\"]\n",
    "    y = individual[\"y\"]\n",
    "    return math.sin(math.sqrt(x ** 2 + y ** 2))"
   ]
  },
  {
   "cell_type": "markdown",
   "id": "2e437dad",
   "metadata": {},
   "source": [
    "**Sort population**"
   ]
  },
  {
   "cell_type": "code",
   "execution_count": 2,
   "id": "e408a39c",
   "metadata": {},
   "outputs": [],
   "source": [
    "def sort_population_by_fitness(population):\n",
    "    return sorted(population, key=objective_function)"
   ]
  },
  {
   "cell_type": "markdown",
   "id": "c0f90236",
   "metadata": {},
   "source": [
    "# finish the below functions"
   ]
  },
  {
   "cell_type": "code",
   "execution_count": 3,
   "id": "6f618beb",
   "metadata": {},
   "outputs": [],
   "source": [
    "def select_individual(sorted_population, fitness_sum):\n",
    "\n",
    "    while 1:\n",
    "        break\n",
    "\n",
    "    return individual\n",
    "\n",
    "        \n",
    "def crossover(individual_a, individual_b):\n",
    "    \n",
    "    ### write your code here\n",
    "\n",
    "    return {\"x\": new_x, \"y\": new_y}\n",
    "\n",
    "\n",
    "def mutate(individual):\n",
    "    \n",
    "    ### write your code here\n",
    "\n",
    "    return {\"x\": next_x, \"y\": next_y}"
   ]
  },
  {
   "cell_type": "code",
   "execution_count": 4,
   "id": "a810e010",
   "metadata": {},
   "outputs": [],
   "source": [
    "def make_next_generation(previous_population):\n",
    "    next_generation = []\n",
    "    sorted_by_fitness_population = sort_population_by_fitness(previous_population)\n",
    "    population_size = len(previous_population)\n",
    "    fitness_sum = sum(objective_function(individual) for individual in population)\n",
    "\n",
    "    for i in range(population_size):\n",
    "        first_choice = select_individual(sorted_by_fitness_population, fitness_sum)\n",
    "        second_choice = select_individual(sorted_by_fitness_population, fitness_sum)\n",
    "\n",
    "        individual = crossover(first_choice, second_choice)\n",
    "        individual = mutate(individual)\n",
    "        next_generation.append(individual)\n",
    "\n",
    "    return next_generation"
   ]
  },
  {
   "cell_type": "code",
   "execution_count": 5,
   "id": "0f7048cf",
   "metadata": {},
   "outputs": [],
   "source": [
    "import random\n",
    "\n",
    "def generate_population(size, x_boundaries, y_boundaries):\n",
    "    lower_x_boundary, upper_x_boundary = x_boundaries\n",
    "    lower_y_boundary, upper_y_boundary = y_boundaries\n",
    "\n",
    "    population = []\n",
    "    for i in range(size):\n",
    "        individual = {\n",
    "            \"x\": random.uniform(lower_x_boundary, upper_x_boundary),\n",
    "            \"y\": random.uniform(lower_y_boundary, upper_y_boundary),\n",
    "        }\n",
    "        population.append(individual)\n",
    "\n",
    "    return population"
   ]
  },
  {
   "cell_type": "code",
   "execution_count": 6,
   "id": "580b8590",
   "metadata": {},
   "outputs": [
    {
     "ename": "NameError",
     "evalue": "name 'individual' is not defined",
     "output_type": "error",
     "traceback": [
      "\u001b[0;31m---------------------------------------------------------------------------\u001b[0m",
      "\u001b[0;31mNameError\u001b[0m                                 Traceback (most recent call last)",
      "Cell \u001b[0;32mIn[6], line 7\u001b[0m\n\u001b[1;32m      5\u001b[0m i \u001b[38;5;241m=\u001b[39m \u001b[38;5;241m1\u001b[39m\n\u001b[1;32m      6\u001b[0m \u001b[38;5;28;01mwhile\u001b[39;00m \u001b[38;5;28;01mTrue\u001b[39;00m:\n\u001b[0;32m----> 7\u001b[0m     population \u001b[38;5;241m=\u001b[39m \u001b[43mmake_next_generation\u001b[49m\u001b[43m(\u001b[49m\u001b[43mpopulation\u001b[49m\u001b[43m)\u001b[49m\n\u001b[1;32m      9\u001b[0m     \u001b[38;5;28;01mif\u001b[39;00m i \u001b[38;5;241m==\u001b[39m generations:\n\u001b[1;32m     10\u001b[0m         \u001b[38;5;28;01mbreak\u001b[39;00m\n",
      "Cell \u001b[0;32mIn[4], line 8\u001b[0m, in \u001b[0;36mmake_next_generation\u001b[0;34m(previous_population)\u001b[0m\n\u001b[1;32m      5\u001b[0m fitness_sum \u001b[38;5;241m=\u001b[39m \u001b[38;5;28msum\u001b[39m(objective_function(individual) \u001b[38;5;28;01mfor\u001b[39;00m individual \u001b[38;5;129;01min\u001b[39;00m population)\n\u001b[1;32m      7\u001b[0m \u001b[38;5;28;01mfor\u001b[39;00m i \u001b[38;5;129;01min\u001b[39;00m \u001b[38;5;28mrange\u001b[39m(population_size):\n\u001b[0;32m----> 8\u001b[0m     first_choice \u001b[38;5;241m=\u001b[39m \u001b[43mselect_individual\u001b[49m\u001b[43m(\u001b[49m\u001b[43msorted_by_fitness_population\u001b[49m\u001b[43m,\u001b[49m\u001b[43m \u001b[49m\u001b[43mfitness_sum\u001b[49m\u001b[43m)\u001b[49m\n\u001b[1;32m      9\u001b[0m     second_choice \u001b[38;5;241m=\u001b[39m select_individual(sorted_by_fitness_population, fitness_sum)\n\u001b[1;32m     11\u001b[0m     individual \u001b[38;5;241m=\u001b[39m crossover(first_choice, second_choice)\n",
      "Cell \u001b[0;32mIn[3], line 3\u001b[0m, in \u001b[0;36mselect_individual\u001b[0;34m(sorted_population, fitness_sum)\u001b[0m\n\u001b[1;32m      1\u001b[0m \u001b[38;5;28;01mdef\u001b[39;00m \u001b[38;5;21mselect_individual\u001b[39m(sorted_population, fitness_sum):\n\u001b[1;32m      2\u001b[0m     \u001b[38;5;66;03m#write your code here\u001b[39;00m\n\u001b[0;32m----> 3\u001b[0m     \u001b[38;5;28;01mreturn\u001b[39;00m \u001b[43mindividual\u001b[49m\n",
      "\u001b[0;31mNameError\u001b[0m: name 'individual' is not defined"
     ]
    }
   ],
   "source": [
    "generations = 100\n",
    "\n",
    "population = generate_population(size=10, x_boundaries=(-4, 4), y_boundaries=(-4, 4))\n",
    "\n",
    "i = 1\n",
    "while True:\n",
    "    population = make_next_generation(population)\n",
    "\n",
    "    if i == generations:\n",
    "        break\n",
    "\n",
    "    i += 1\n",
    "\n",
    "    \n",
    "\n",
    "best_individual = sort_population_by_fitness(population)[-1]\n",
    "print(\"\\n🔬 FINAL RESULT\")\n",
    "print(best_individual, objective_function(best_individual))"
   ]
  }
 ],
 "metadata": {
  "interpreter": {
   "hash": "aee8b7b246df8f9039afb4144a1f6fd8d2ca17a180786b69acc140d282b71a49"
  },
  "kernelspec": {
   "display_name": "Python 3.10.5 64-bit",
   "name": "python3"
  },
  "language_info": {
   "codemirror_mode": {
    "name": "ipython",
    "version": 3
   },
   "file_extension": ".py",
   "mimetype": "text/x-python",
   "name": "python",
   "nbconvert_exporter": "python",
   "pygments_lexer": "ipython3",
   "version": "3.10.5"
  }
 },
 "nbformat": 4,
 "nbformat_minor": 5
}
